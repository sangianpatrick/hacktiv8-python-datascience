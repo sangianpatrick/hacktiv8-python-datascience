{
 "cells": [
  {
   "cell_type": "markdown",
   "metadata": {},
   "source": [
    "## Review NumPy & Pandas"
   ]
  },
  {
   "cell_type": "markdown",
   "metadata": {},
   "source": [
    "##### NumPy"
   ]
  },
  {
   "cell_type": "markdown",
   "metadata": {},
   "source": [
    "1. Buatlah bilangan random dari fungsi `np.random.random()` 1 Dimensi (10000) elemen, lalu buat histogramnya dengan bins = 500. Apa yang bisa disimpulkan dari histogram tersebut?"
   ]
  },
  {
   "cell_type": "code",
   "execution_count": 12,
   "metadata": {},
   "outputs": [
    {
     "data": {
      "image/png": "[encoded data removed]",
      "text/plain": [
       "<Figure size 432x288 with 1 Axes>"
      ]
     },
     "metadata": {},
     "output_type": "display_data"
    }
   ],
   "source": [
    "import numpy as np\n",
    "import matplotlib.pyplot as plt\n",
    "%matplotlib inline\n",
    "\n",
    "rand_int = np.random.random(size=1000)\n",
    "plt.hist(rand_int, bins = 500);"
   ]
  },
  {
   "cell_type": "markdown",
   "metadata": {},
   "source": [
    "2. Diberikan sebuah dadu, lalu dilemparkan sebanyak 1000 kali, buatlah array yang berisi hasil dari lemparan tersebut, lalu buatlah diagram batangnya ( `gunakan matplotlib.pyplot.bar` ). Apa yang bisa disimpulkan dari diagram batang tersebut?"
   ]
  },
  {
   "cell_type": "code",
   "execution_count": 24,
   "metadata": {
    "scrolled": true
   },
   "outputs": [
    {
     "data": {
      "image/png": "[encoded data removed]",
      "text/plain": [
       "<Figure size 432x288 with 1 Axes>"
      ]
     },
     "metadata": {},
     "output_type": "display_data"
    }
   ],
   "source": [
    "dadu = np.random.randint(1,7, size=1000);\n",
    "dadu\n",
    "plt.hist(dadu, bins = 6);"
   ]
  },
  {
   "cell_type": "code",
   "execution_count": null,
   "metadata": {},
   "outputs": [],
   "source": [
    "\n"
   ]
  },
  {
   "cell_type": "markdown",
   "metadata": {},
   "source": [
    "3. Andi melakukan eksperimen melempar sebuah dadu *30 kali*, setelah itu dihitung rata-rata nya. Eksperimen tersebut dilakukan berulang-ulang sampai *1000 kali*. Buatlah simulasinya dan buatlah histogram dari hasil rata-rata eksperimen tersebut (1 eksperimen adalah 30 kali pelemparan lalu dihitung rata-ratanya, sehingga di akhir eksperimen ada 1000 nilai rata-rata), apa yang bisa disimpulkan dari hasil eksperimen tersebut ?"
   ]
  },
  {
   "cell_type": "code",
   "execution_count": 52,
   "metadata": {},
   "outputs": [
    {
     "data": {
      "image/png": "[encoded data removed]",
      "text/plain": [
       "<Figure size 432x288 with 1 Axes>"
      ]
     },
     "metadata": {},
     "output_type": "display_data"
    }
   ],
   "source": [
    "import pandas as pd\n",
    "\n",
    "rng = np.random.RandomState(42)\n",
    "dadu = pd.DataFrame(rng.randint(1,7, (30,1000)))\n",
    "dadu#= #dadu.T[:1000]\n",
    "\n",
    "\n",
    "rerata = pd.Series(dadu[i].mean() for i in range (1000))\n",
    "plt.hist(dadu, bins=50);"
   ]
  },
  {
   "cell_type": "markdown",
   "metadata": {},
   "source": [
    "#### Pandas"
   ]
  },
  {
   "cell_type": "markdown",
   "metadata": {},
   "source": [
    "Bukalah file ```jumlah_guru_SD_jakarta.csv``` dan ```jumlah_sekolah_SD_jakarta.csv``` dan jawab pertanyaan berikut:\n",
    "\n",
    "1. Berapakah jumlah guru SD negeri dan swasta dari masing-masing Kota Administratif ? Buat diagram batangnya!\n",
    "2. Berapakah jumlah guru SD negeri dan swasta dari masing-masing Kota Administratif ? Buat diagram batangnya!\n",
    "3. Gabung kedua data tersebut dan buat ```dataframe``` baru !\n",
    "4. Hitunglah rata-rata jumlah guru setiap sekolah di setiap kecamatan !\n",
    "5. Urutkan kecamatan yang memiliki rata-rata jumlah guru yang terbesar sampai yang terkecil !"
   ]
  },
  {
   "cell_type": "code",
   "execution_count": 53,
   "metadata": {},
   "outputs": [
    {
     "name": "stdout",
     "output_type": "stream",
     "text": [
      "jumlah_guru_SD_jakarta.csv     template-review.ipynb\r\n",
      "jumlah_sekolah_sd_jakarta.csv  Untitled.ipynb\r\n"
     ]
    }
   ],
   "source": [
    "%ls"
   ]
  },
  {
   "cell_type": "code",
   "execution_count": 54,
   "metadata": {},
   "outputs": [
    {
     "ename": "NameError",
     "evalue": "name 'data' is not defined",
     "output_type": "error",
     "traceback": [
      "\u001b[0;31m---------------------------------------------------------------------------\u001b[0m",
      "\u001b[0;31mNameError\u001b[0m                                 Traceback (most recent call last)",
      "\u001b[0;32m<ipython-input-54-281c7facb5b8>\u001b[0m in \u001b[0;36m<module>\u001b[0;34m()\u001b[0m\n\u001b[1;32m      1\u001b[0m \u001b[0mdata_guru\u001b[0m \u001b[0;34m=\u001b[0m \u001b[0mpd\u001b[0m\u001b[0;34m.\u001b[0m\u001b[0mread_csv\u001b[0m\u001b[0;34m(\u001b[0m\u001b[0;34m'jumlah_guru_SD_jakarta.csv'\u001b[0m\u001b[0;34m)\u001b[0m\u001b[0;34m\u001b[0m\u001b[0m\n\u001b[0;32m----> 2\u001b[0;31m \u001b[0mdata\u001b[0m\u001b[0;34m.\u001b[0m\u001b[0mhead\u001b[0m\u001b[0;34m(\u001b[0m\u001b[0;34m)\u001b[0m\u001b[0;34m\u001b[0m\u001b[0m\n\u001b[0m",
      "\u001b[0;31mNameError\u001b[0m: name 'data' is not defined"
     ]
    }
   ],
   "source": [
    "data_guru = pd.read_csv('jumlah_guru_SD_jakarta.csv')\n",
    "data_guru.head()"
   ]
  },
  {
   "cell_type": "code",
   "execution_count": null,
   "metadata": {},
   "outputs": [],
   "source": []
  }
 ],
 "metadata": {
  "kernelspec": {
   "display_name": "Python 3",
   "language": "python",
   "name": "python3"
  },
  "language_info": {
   "codemirror_mode": {
    "name": "ipython",
    "version": 3
   },
   "file_extension": ".py",
   "mimetype": "text/x-python",
   "name": "python",
   "nbconvert_exporter": "python",
   "pygments_lexer": "ipython3",
   "version": "3.6.5"
  }
 },
 "nbformat": 4,
 "nbformat_minor": 2
}
