{
 "cells": [
  {
   "cell_type": "code",
   "execution_count": 1,
   "metadata": {},
   "outputs": [],
   "source": [
    "from sklearn.feature_extraction.text import CountVectorizer\n",
    "import pandas as pd\n",
    "data = pd.read_csv('Capres2014-2.0.csv', encoding='latin1')\n"
   ]
  },
  {
   "cell_type": "code",
   "execution_count": 2,
   "metadata": {},
   "outputs": [
    {
     "data": {
      "text/html": [
       "<div>\n",
       "<style scoped>\n",
       "    .dataframe tbody tr th:only-of-type {\n",
       "        vertical-align: middle;\n",
       "    }\n",
       "\n",
       "    .dataframe tbody tr th {\n",
       "        vertical-align: top;\n",
       "    }\n",
       "\n",
       "    .dataframe thead th {\n",
       "        text-align: right;\n",
       "    }\n",
       "</style>\n",
       "<table border=\"1\" class=\"dataframe\">\n",
       "  <thead>\n",
       "    <tr style=\"text-align: right;\">\n",
       "      <th></th>\n",
       "      <th>ID</th>\n",
       "      <th>Tweet_ID</th>\n",
       "      <th>Isi_Tweet</th>\n",
       "      <th>Tanggal_Tweet</th>\n",
       "      <th>Kandidat</th>\n",
       "      <th>Aplikasi</th>\n",
       "      <th>Lokasi User</th>\n",
       "      <th>Sentimen</th>\n",
       "    </tr>\n",
       "  </thead>\n",
       "  <tbody>\n",
       "    <tr>\n",
       "      <th>0</th>\n",
       "      <td>133343972</td>\n",
       "      <td>patih_patria</td>\n",
       "      <td>@FahrelStv Gak setuju Jokowi jadi Cawapres.. C...</td>\n",
       "      <td>8/1/2013 0:33</td>\n",
       "      <td>Jokowi</td>\n",
       "      <td>web</td>\n",
       "      <td>BLITAR - INDONESIA</td>\n",
       "      <td>1</td>\n",
       "    </tr>\n",
       "    <tr>\n",
       "      <th>1</th>\n",
       "      <td>921720487</td>\n",
       "      <td>RintisBautista</td>\n",
       "      <td>capres jokowi,wacapres abraham samad. gubernur...</td>\n",
       "      <td>8/1/2013 4:11</td>\n",
       "      <td>Jokowi</td>\n",
       "      <td>&lt;a href=\"http://janetter.net/\" rel=\"nofollow\"&gt;...</td>\n",
       "      <td>Didalam hatinya recha  :love</td>\n",
       "      <td>1</td>\n",
       "    </tr>\n",
       "    <tr>\n",
       "      <th>2</th>\n",
       "      <td>-2120434840</td>\n",
       "      <td>JokowiPres</td>\n",
       "      <td>RT @RintisBautista: capres jokowi,wacapres abr...</td>\n",
       "      <td>8/1/2013 4:32</td>\n",
       "      <td>Jokowi</td>\n",
       "      <td>&lt;a href=\"http://roundteam.co\" rel=\"nofollow\"&gt;R...</td>\n",
       "      <td>NaN</td>\n",
       "      <td>1</td>\n",
       "    </tr>\n",
       "    <tr>\n",
       "      <th>3</th>\n",
       "      <td>-116006035</td>\n",
       "      <td>Franliiiii</td>\n",
       "      <td>capres ( Prabowo ) and cawapres ( jokowi ) and...</td>\n",
       "      <td>8/1/2013 7:33</td>\n",
       "      <td>Prabowo</td>\n",
       "      <td>web</td>\n",
       "      <td>Manado</td>\n",
       "      <td>1</td>\n",
       "    </tr>\n",
       "    <tr>\n",
       "      <th>4</th>\n",
       "      <td>-906300614</td>\n",
       "      <td>JokowiPres</td>\n",
       "      <td>RT @Franliiiii: capres ( Prabowo ) and cawapre...</td>\n",
       "      <td>8/1/2013 7:36</td>\n",
       "      <td>Prabowo</td>\n",
       "      <td>&lt;a href=\"http://roundteam.co\" rel=\"nofollow\"&gt;R...</td>\n",
       "      <td>NaN</td>\n",
       "      <td>1</td>\n",
       "    </tr>\n",
       "  </tbody>\n",
       "</table>\n",
       "</div>"
      ],
      "text/plain": [
       "           ID        Tweet_ID  \\\n",
       "0   133343972    patih_patria   \n",
       "1   921720487  RintisBautista   \n",
       "2 -2120434840      JokowiPres   \n",
       "3  -116006035      Franliiiii   \n",
       "4  -906300614      JokowiPres   \n",
       "\n",
       "                                           Isi_Tweet  Tanggal_Tweet Kandidat  \\\n",
       "0  @FahrelStv Gak setuju Jokowi jadi Cawapres.. C...  8/1/2013 0:33   Jokowi   \n",
       "1  capres jokowi,wacapres abraham samad. gubernur...  8/1/2013 4:11   Jokowi   \n",
       "2  RT @RintisBautista: capres jokowi,wacapres abr...  8/1/2013 4:32   Jokowi   \n",
       "3  capres ( Prabowo ) and cawapres ( jokowi ) and...  8/1/2013 7:33  Prabowo   \n",
       "4  RT @Franliiiii: capres ( Prabowo ) and cawapre...  8/1/2013 7:36  Prabowo   \n",
       "\n",
       "                                            Aplikasi  \\\n",
       "0                                                web   \n",
       "1  <a href=\"http://janetter.net/\" rel=\"nofollow\">...   \n",
       "2  <a href=\"http://roundteam.co\" rel=\"nofollow\">R...   \n",
       "3                                                web   \n",
       "4  <a href=\"http://roundteam.co\" rel=\"nofollow\">R...   \n",
       "\n",
       "                    Lokasi User  Sentimen  \n",
       "0            BLITAR - INDONESIA         1  \n",
       "1  Didalam hatinya recha  :love         1  \n",
       "2                           NaN         1  \n",
       "3                        Manado         1  \n",
       "4                           NaN         1  "
      ]
     },
     "execution_count": 2,
     "metadata": {},
     "output_type": "execute_result"
    }
   ],
   "source": [
    "data.head()"
   ]
  },
  {
   "cell_type": "code",
   "execution_count": 3,
   "metadata": {},
   "outputs": [],
   "source": [
    "data.shape\n",
    "stopwords = pd.read_csv('stopwords_id.csv')\n",
    "stopwords = stopwords['#stopwords'].values"
   ]
  },
  {
   "cell_type": "code",
   "execution_count": 4,
   "metadata": {},
   "outputs": [
    {
     "data": {
      "text/plain": [
       "24/09/2013 21:42 Sosok Gubernur Jokowi dan Mantan Wakil Presiden Jusuf Kalla dinyatakan sebagai 2 tokoh terpopuler dalam perbincangan...          59\n",
       "2013PAN membuka kemungkinan evaluasi pencapresan Ketua Umumnya, Hatta Radjasa. Jika tidak menjadi capres, Hatta bisa menjadi cawapres...          43\n",
       "2013PAN membuka kemungkinan evaluasi pencapresan Ketua Umumnya, Hatta Radjasa. Jika tidak menjadi capres, Hatta...                                14\n",
       "RT @Jimie_7: kalo @aniesbaswedan jadi presiden , @jokowi_do2 gubernurnya Jkt, @ridwankamil walikotanya bdg,sy rasa kita pantas optimis sama...    10\n",
       "RT @oktariands: Jokowi nyapres 2014 OK, tp klo 2019 Hebat. Klo utk 2014 ini bgsny, Mahfud MD Capres, Dahlan Iskan Cawapres. #Pilpres2014           9\n",
       "RT @fadjroeL: Bungkus \"@Nurcholis10: Capres @jokowi_do2. & Cawapres @mohmahfudmd. Gimana bung @fadjroeL.                                           8\n",
       "RT @TrioMacan2000: Ada yg waras di PDIP @S05sinawang: Guruh masih berfikir jernih\"@rezkykamal7: Guruh Sukarno: Blm Waktunya Presiden, Jokow...     7\n",
       "RT @Politikhangat: Deklarasi capres Wiranto-HT tingkatkan keterpilihan Hanura: Deklarasi pasangan calon presiden (Capres) Partai Hanura...         6\n",
       "RT @andrinof_a_ch: Pake metode acak apa nich? Acak-acakan??? @despar54 Lembaga Survey \"INES\": Capres Prabowo unggul 36% dr Jokowi 24%  Cc: ...     6\n",
       "RT @warungsego: Jd kmaren fpi demo ke mnc buat nolak capres wiranto-Hary tanoe. tp itu pasti dg maksud menciptakan simpati org thdp psgn tsb       5\n",
       "RT @khumairahsamsir: Andaikan jokowi jd presiden, jusuf kalla jd wakilnya.. Makmurmi mungkin indonesia :D                                          5\n",
       "RT @LoveNiey: Jokowi presd nya \"@Jimie_7: kalo @aniesbaswedan jadi presiden , @jokowi_do2 gubernurnya Jkt, @ridwankamil walikotanya bdg,sy ...     5\n",
       "RT @dalgonyes: GOLKAR ! Daripada ribt dan ribet terus soal capres ARB ayo bikin konvensi terbuka,berani?kalau berani itu baru partainya rak...     5\n",
       "RT @Budhiusmp: Sedangkan pemain lama u soal Capres, JK dan Wiranto, lbh spt sdg menikmati wisata politik yg mengasyikkan semata, post power...     4\n",
       "RT @alljet99: @jokowi_do2 @Jokowi_RI @Jokowi2014 @Jokowi_Presiden #jokowi siapa lg yg mau gabung untuk jadi Tim Sukses Gratis jokowi for RI...     4\n",
       "RT @Prabowofor2014: Prabowo tidak ngoyo jadi presiden. Prabowo hanya ingin Indonesia merdeka, Indonesia berdikari.#PrabowoPresiden #Gerindr...     4\n",
       "RT @adamjudge: Semoga PDIP dan Megawati sadar, klo Jokowi masih punya janji untuk jakarta 5 tahun ini. Buktikan dulu 5 tahun, baru bicara p...     4\n",
       "Jadi Calon Presiden, Prabowo Dijegal Koruptor                                                                                                      4\n",
       "RT @aldila_jpg: hhmmm bahkan acara sekaliber Miss World pun disusupi aroma kampanye capres Wiranto - Hary Tanoe, this is Indonesia !               3\n",
       "RT @forzafauzan: @PartaiSocmed FUI kemaren demo tolak Miss World tp poster yg dibawa Pasangan capres Wiranto-Tanoe. #lha #begimana                 3\n",
       "RT @Nurcholis10: Capres @jokowi_do2. & Cawapres @mohmahfudmd. Gimana bung @fadjroeL.                                                               3\n",
       "RT @Ronnie_Rusli: Kalau Dahlan tertarik duet dng Capres Jokowi sebagai Cawapres 2014 itu namanya tau dirinya adalah \"Jongos Presiden (aka P...     3\n",
       "RT @harrypvdio: Ndak mau mikir, ndak mau mikir, ndak mau mikir jadi Capres. @jokowi_do2 jumpalitan ngurus Jakarta.                                 3\n",
       "RT @DioSamuel: \"@LoveNiey: Jokowi presd nya \"@Jimie_7: kalo @aniesbaswedan jadi presiden , @jokowi_do2 gubernurnya Jkt, bisa jadi kenapa ta...     3\n",
       "RT @RafendraAR: \"Lapindo sdh dnyatakan tdk brslah d pgadilan, jd itu bkn urusan sy\" apa itu jwban sosok calon PRESIDEN? #ARB @yuniche21 #UM...     3\n",
       "RT @PROREPUBLIK: Gak sirik, tp aneh,pigur Capres Wiranto-HT ngurusi non kebangsaan \"@syakilaayana: @maman991 @wiranto1947 ente sirik pasti ...     3\n",
       "RT @agakarebaa: calon presiden, Aburizal Bakri, kasi laptop enam siswa di bulukumba                                                                3\n",
       "RT @arsyad_amran: @MS_9910  yg layak sbg capres @jokowi_do2   kompetiter yg layak bertanding @mohmahfudmd & @Yusrilihza_Mhd, mrk smua InsyA...     3\n",
       "RT @rieza_interisti: Dibalik jg posisinya mantap (y) RT @fadjroeL: Bungkus \"@Nurcholis10: Capres @jokowi_do2. & Cawapres @mohmahfudmd. Gima...     3\n",
       "RT @HenryBarus1: RT\"@alljet99: @jokowi_do2 @Jokowi_RI @Jokowi2014 @Jokowi_Presiden #jokowi Ayo dukung Tim Sukses Gratis jokowi for RI-1 201...     3\n",
       "                                                                                                                                                  ..\n",
       "RT @akmaller: Mahfud MD Tak Ingin Jadi Penguasa: Bakal calon presiden Mahfud MD mengatakan, dirinya tak ingin menjadi penguasa. Sebaliknya,â¦     1\n",
       "RT @Imjustdoney: @elzataher udah ada survei internalnya, Megawati-Jokowi sulit menang. Capres Jokowi, cawapresnya siapa aja pasti menang.          1\n",
       "Presiden Jokowi, wapres Bu risma... PDI kabeh brati ..                                                                                             1\n",
       "Ahok aja presiden..jokowi ttp gub RT @Herrreza: Apakah saudara2 semua benar2 menginginkan Jokowi maju jadi calon presiden? #survey                 1\n",
       "#TuitMakassar DPD I Golkar Sulsel: Capres ARB Tergantung Survey Usai Pilcaleg #Makassar #Tuit                                                      1\n",
       "RT @DesiPuspitawati: Jika di era presiden Megawati KPK, yg ada awal pemberantasan korupsi sistemis, didirikan. Di era presiden SBY gerakan         1\n",
       "kl daftar jd presiden dmn bro?RT @farhatabbaslaw:Orang bego gk usa pilih gw jd presiden,jk gw jd presiden,orang bego gw jadiin pinter semua!       1\n",
       "#TuitCirebon Konvensi Capres, Dahlan Iskan Mendominasi #Cirebon #Tuit                                                                              1\n",
       "Ketika JK, Ical, dan Paloh Tertawa Bersama...: \"Ini teman sejati kita,\" kata mantan Wakil Presiden Jusuf Kalla alias JK ketika meneri...           1\n",
       "Pasangan yg cocok buat Capres: Prabowo Wapres: Jokowi..... Mereka memiliki kriteria yg sama..... Buat yg setuju bolek retwet                       1\n",
       "RT @ass_suryadi: Presiden Jokowi dan wapres artidjo alkautsar adalah pasangan ideal menyongsong indonesia baru dan direstui seluruh rakyat         1\n",
       "B.J. Habibie jadi #presiden. Jokowi jadi #wakilpresiden. keren kayaknya                                                                            1\n",
       "Yg dapat dilakukan Demokrat hanyalah menawarkan pemenang konvensi sbg cawapres bagi capres @jokowi_do2                                             1\n",
       "JK katakan, butuh waktu Jokowi jadi capres: Mantan Wakil Presiden Jusuf Kalla menyebut layak tidaknya Joko Widodo                                  1\n",
       "Kabinet gotong royong \"@Soal_Singkat: Kabinet yang dipimpin oleh Presiden Megawati Soekarnoputri dinamakan ....\"                                   1\n",
       "Calon presiden arb punya tv one, surya paloh punya metro tv smga smua calon presiden, caleg punya hati tdk KORUPSI                                 1\n",
       "@ac_jkw @Azcaisha @mssetiadi @pamzeppelin @indrasbatam @DI_Comm Ga nyambung ah. Foto presiden Dahlan Iskan di atas papan tulis :)                  1\n",
       "RT @HarianRakjat: 7. Ada ketakutan dari Dinasti Bani Cikeas jika @iskan_dahlan yg menang dalam Konvensi Capres. Dahlan bukanlah capres yg d        1\n",
       "@TrioMacan2000 nanti konvoi pendukung capres jokowi pada pilpres nanti dilarang ga ya?                                                             1\n",
       "#TuitSolo JOKOWI CAPRES : Jokowi Tetap Serahkan Soal Nyapres ke Mega #Solo #Tuit                                                                   1\n",
       "Cape liat Iklan ARB RT @koeztri: saking ndak percayadiri unt naikkan elektabilts #capres ARB comot BK di iklannya @satriopanilih @alankomar2       1\n",
       "ngomong dpikir dlu mas sblum jdi gubernur DKI  beliau sdh mmakai mbil ESEMKA \"@farhatabbaslaw Gue presiden! Jokowi gue suruh naik esemka!          1\n",
       "9.@Presiden2014com @mahfud_md2014 kita bahas bacalon presiden ARB,dapat di tambahkan pak Mahfud bersih dari pelanggaran HAM. Wassalam              1\n",
       "Presiden Jokowi, wakil Presiden Risma, menteri dalam negeri Ahok. Sippp itu.                                                                       1\n",
       "Klo next presiden jokowi mantaap x ya. Wlau kliatannya blom capable utk jd presiden.  Spertinya dia pribadi yg sederhana jujur dan tegas.          1\n",
       "RT @wareng170: Nama mas Apung Widadi aktifis Save Our Soccer (SOS) Elektibilitasnya naik drastis mengalahkan Elektibilitas capres ARB & Jok        1\n",
       "Isu tujuh jenderal yang di-blacklist Amerika Serikat yang dihembuskan adik capres Prabowo Subianto, Hashim Djojohadikusumo, dinilai k...           1\n",
       "RT @Yusrilihza_Mhd: 12. Saya ingat thn 2004 Presiden Megawati sampai 2 kali keluarkan Perpu karena KPU terlambat siapkan surat suara dan pe        1\n",
       "Baca koran kompas ada artikel \"7 tahun Menanti Janji Kosong Lapindo\",,ada komen buat capres ARB yg d iklannya selalu pro rakyat???                 1\n",
       "Mesir Memanas, ElBaradei Mundur dari Kursi Wakil Presiden  DAHLAN TOLOL                                                                            1\n",
       "Name: Isi_Tweet, Length: 3077, dtype: int64"
      ]
     },
     "execution_count": 4,
     "metadata": {},
     "output_type": "execute_result"
    }
   ],
   "source": [
    "data.Isi_Tweet.value_counts()"
   ]
  },
  {
   "cell_type": "code",
   "execution_count": 5,
   "metadata": {},
   "outputs": [],
   "source": [
    "from sklearn.model_selection import train_test_split\n",
    "X = data.Isi_Tweet\n",
    "y = data.Sentimen\n",
    "\n",
    "X_train, X_test, y_train, y_test = train_test_split(X, y, test_size=0.4)"
   ]
  },
  {
   "cell_type": "code",
   "execution_count": 6,
   "metadata": {},
   "outputs": [
    {
     "name": "stdout",
     "output_type": "stream",
     "text": [
      "(2013,)\n",
      "(1343,)\n"
     ]
    }
   ],
   "source": [
    "print(X_train.shape)\n",
    "print(X_test.shape)"
   ]
  },
  {
   "cell_type": "code",
   "execution_count": 7,
   "metadata": {},
   "outputs": [
    {
     "data": {
      "text/plain": [
       "<2013x6508 sparse matrix of type '<class 'numpy.int64'>'\n",
       "\twith 31243 stored elements in Compressed Sparse Row format>"
      ]
     },
     "execution_count": 7,
     "metadata": {},
     "output_type": "execute_result"
    }
   ],
   "source": [
    "vect = CountVectorizer()\n",
    "X_train_vec = vect.fit(X_train)\n",
    "X_train_vec.get_feature_names()\n",
    "X_train_vec = vect.transform(X_train)\n",
    "X_train_vec"
   ]
  },
  {
   "cell_type": "code",
   "execution_count": 8,
   "metadata": {},
   "outputs": [
    {
     "data": {
      "text/plain": [
       "<1343x6508 sparse matrix of type '<class 'numpy.int64'>'\n",
       "\twith 18652 stored elements in Compressed Sparse Row format>"
      ]
     },
     "execution_count": 8,
     "metadata": {},
     "output_type": "execute_result"
    }
   ],
   "source": [
    "X_test_vec = vect.transform(X_test)\n",
    "X_test_vec"
   ]
  },
  {
   "cell_type": "code",
   "execution_count": 10,
   "metadata": {},
   "outputs": [
    {
     "name": "stdout",
     "output_type": "stream",
     "text": [
      "CPU times: user 4.51 ms, sys: 30 µs, total: 4.54 ms\n",
      "Wall time: 4.66 ms\n"
     ]
    },
    {
     "data": {
      "text/plain": [
       "MultinomialNB(alpha=1.0, class_prior=None, fit_prior=True)"
      ]
     },
     "execution_count": 10,
     "metadata": {},
     "output_type": "execute_result"
    }
   ],
   "source": [
    "from sklearn.naive_bayes import MultinomialNB\n",
    "nb = MultinomialNB()\n",
    "%time nb.fit(X_train_vec, y_train)"
   ]
  },
  {
   "cell_type": "code",
   "execution_count": 12,
   "metadata": {},
   "outputs": [],
   "source": [
    "y_pred = nb.predict(X_test_vec)"
   ]
  },
  {
   "cell_type": "code",
   "execution_count": 13,
   "metadata": {},
   "outputs": [
    {
     "data": {
      "text/plain": [
       "0.7215189873417721"
      ]
     },
     "execution_count": 13,
     "metadata": {},
     "output_type": "execute_result"
    }
   ],
   "source": [
    "from sklearn.metrics import accuracy_score\n",
    "accuracy_score(y_pred, y_test)"
   ]
  },
  {
   "cell_type": "code",
   "execution_count": 14,
   "metadata": {},
   "outputs": [
    {
     "data": {
      "text/plain": [
       "array([[185,  49,  24],\n",
       "       [ 73, 466,  84],\n",
       "       [ 54,  90, 318]])"
      ]
     },
     "execution_count": 14,
     "metadata": {},
     "output_type": "execute_result"
    }
   ],
   "source": [
    "from sklearn.metrics import confusion_matrix\n",
    "\n",
    "confusion_matrix(y_pred, y_test)"
   ]
  },
  {
   "cell_type": "code",
   "execution_count": 15,
   "metadata": {},
   "outputs": [
    {
     "data": {
      "text/plain": [
       "array([1.00000000e+00, 8.68749248e-16, 1.37649906e-15])"
      ]
     },
     "execution_count": 15,
     "metadata": {},
     "output_type": "execute_result"
    }
   ],
   "source": [
    "y_pred_prob = nb.predict_proba(X_test_vec)\n",
    "y_pred_prob[0]"
   ]
  },
  {
   "cell_type": "code",
   "execution_count": 16,
   "metadata": {},
   "outputs": [
    {
     "data": {
      "text/plain": [
       "array([1, 1, 1])"
      ]
     },
     "execution_count": 16,
     "metadata": {},
     "output_type": "execute_result"
    }
   ],
   "source": [
    "new_tweet = ['pilih yang bukan koruptor','pilih yang merakyat','golput aja deh']\n",
    "new_tweet_vect = vect.transform(new_tweet)\n",
    "\n",
    "nb.predict(new_tweet_vect)"
   ]
  },
  {
   "cell_type": "code",
   "execution_count": null,
   "metadata": {},
   "outputs": [],
   "source": []
  },
  {
   "cell_type": "code",
   "execution_count": null,
   "metadata": {},
   "outputs": [],
   "source": []
  },
  {
   "cell_type": "code",
   "execution_count": null,
   "metadata": {},
   "outputs": [],
   "source": []
  },
  {
   "cell_type": "code",
   "execution_count": null,
   "metadata": {},
   "outputs": [],
   "source": []
  }
 ],
 "metadata": {
  "kernelspec": {
   "display_name": "Python 3",
   "language": "python",
   "name": "python3"
  },
  "language_info": {
   "codemirror_mode": {
    "name": "ipython",
    "version": 3
   },
   "file_extension": ".py",
   "mimetype": "text/x-python",
   "name": "python",
   "nbconvert_exporter": "python",
   "pygments_lexer": "ipython3",
   "version": "3.6.5"
  }
 },
 "nbformat": 4,
 "nbformat_minor": 2
}
