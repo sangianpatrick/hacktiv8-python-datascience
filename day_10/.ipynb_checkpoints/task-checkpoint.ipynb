{
 "cells": [
  {
   "cell_type": "code",
   "execution_count": 39,
   "metadata": {},
   "outputs": [],
   "source": [
    "from sklearn.feature_extraction.text import CountVectorizer\n",
    "import pandas as pd\n",
    "data = pd.read_csv('Capres2014-2.0.csv', encoding='latin1')\n"
   ]
  },
  {
   "cell_type": "code",
   "execution_count": 40,
   "metadata": {},
   "outputs": [
    {
     "data": {
      "text/html": [
       "<div>\n",
       "<style scoped>\n",
       "    .dataframe tbody tr th:only-of-type {\n",
       "        vertical-align: middle;\n",
       "    }\n",
       "\n",
       "    .dataframe tbody tr th {\n",
       "        vertical-align: top;\n",
       "    }\n",
       "\n",
       "    .dataframe thead th {\n",
       "        text-align: right;\n",
       "    }\n",
       "</style>\n",
       "<table border=\"1\" class=\"dataframe\">\n",
       "  <thead>\n",
       "    <tr style=\"text-align: right;\">\n",
       "      <th></th>\n",
       "      <th>ID</th>\n",
       "      <th>Tweet_ID</th>\n",
       "      <th>Isi_Tweet</th>\n",
       "      <th>Tanggal_Tweet</th>\n",
       "      <th>Kandidat</th>\n",
       "      <th>Aplikasi</th>\n",
       "      <th>Lokasi User</th>\n",
       "      <th>Sentimen</th>\n",
       "    </tr>\n",
       "  </thead>\n",
       "  <tbody>\n",
       "    <tr>\n",
       "      <th>0</th>\n",
       "      <td>133343972</td>\n",
       "      <td>patih_patria</td>\n",
       "      <td>@FahrelStv Gak setuju Jokowi jadi Cawapres.. C...</td>\n",
       "      <td>8/1/2013 0:33</td>\n",
       "      <td>Jokowi</td>\n",
       "      <td>web</td>\n",
       "      <td>BLITAR - INDONESIA</td>\n",
       "      <td>1</td>\n",
       "    </tr>\n",
       "    <tr>\n",
       "      <th>1</th>\n",
       "      <td>921720487</td>\n",
       "      <td>RintisBautista</td>\n",
       "      <td>capres jokowi,wacapres abraham samad. gubernur...</td>\n",
       "      <td>8/1/2013 4:11</td>\n",
       "      <td>Jokowi</td>\n",
       "      <td>&lt;a href=\"http://janetter.net/\" rel=\"nofollow\"&gt;...</td>\n",
       "      <td>Didalam hatinya recha  :love</td>\n",
       "      <td>1</td>\n",
       "    </tr>\n",
       "    <tr>\n",
       "      <th>2</th>\n",
       "      <td>-2120434840</td>\n",
       "      <td>JokowiPres</td>\n",
       "      <td>RT @RintisBautista: capres jokowi,wacapres abr...</td>\n",
       "      <td>8/1/2013 4:32</td>\n",
       "      <td>Jokowi</td>\n",
       "      <td>&lt;a href=\"http://roundteam.co\" rel=\"nofollow\"&gt;R...</td>\n",
       "      <td>NaN</td>\n",
       "      <td>1</td>\n",
       "    </tr>\n",
       "    <tr>\n",
       "      <th>3</th>\n",
       "      <td>-116006035</td>\n",
       "      <td>Franliiiii</td>\n",
       "      <td>capres ( Prabowo ) and cawapres ( jokowi ) and...</td>\n",
       "      <td>8/1/2013 7:33</td>\n",
       "      <td>Prabowo</td>\n",
       "      <td>web</td>\n",
       "      <td>Manado</td>\n",
       "      <td>1</td>\n",
       "    </tr>\n",
       "    <tr>\n",
       "      <th>4</th>\n",
       "      <td>-906300614</td>\n",
       "      <td>JokowiPres</td>\n",
       "      <td>RT @Franliiiii: capres ( Prabowo ) and cawapre...</td>\n",
       "      <td>8/1/2013 7:36</td>\n",
       "      <td>Prabowo</td>\n",
       "      <td>&lt;a href=\"http://roundteam.co\" rel=\"nofollow\"&gt;R...</td>\n",
       "      <td>NaN</td>\n",
       "      <td>1</td>\n",
       "    </tr>\n",
       "  </tbody>\n",
       "</table>\n",
       "</div>"
      ],
      "text/plain": [
       "           ID        Tweet_ID  \\\n",
       "0   133343972    patih_patria   \n",
       "1   921720487  RintisBautista   \n",
       "2 -2120434840      JokowiPres   \n",
       "3  -116006035      Franliiiii   \n",
       "4  -906300614      JokowiPres   \n",
       "\n",
       "                                           Isi_Tweet  Tanggal_Tweet Kandidat  \\\n",
       "0  @FahrelStv Gak setuju Jokowi jadi Cawapres.. C...  8/1/2013 0:33   Jokowi   \n",
       "1  capres jokowi,wacapres abraham samad. gubernur...  8/1/2013 4:11   Jokowi   \n",
       "2  RT @RintisBautista: capres jokowi,wacapres abr...  8/1/2013 4:32   Jokowi   \n",
       "3  capres ( Prabowo ) and cawapres ( jokowi ) and...  8/1/2013 7:33  Prabowo   \n",
       "4  RT @Franliiiii: capres ( Prabowo ) and cawapre...  8/1/2013 7:36  Prabowo   \n",
       "\n",
       "                                            Aplikasi  \\\n",
       "0                                                web   \n",
       "1  <a href=\"http://janetter.net/\" rel=\"nofollow\">...   \n",
       "2  <a href=\"http://roundteam.co\" rel=\"nofollow\">R...   \n",
       "3                                                web   \n",
       "4  <a href=\"http://roundteam.co\" rel=\"nofollow\">R...   \n",
       "\n",
       "                    Lokasi User  Sentimen  \n",
       "0            BLITAR - INDONESIA         1  \n",
       "1  Didalam hatinya recha  :love         1  \n",
       "2                           NaN         1  \n",
       "3                        Manado         1  \n",
       "4                           NaN         1  "
      ]
     },
     "execution_count": 40,
     "metadata": {},
     "output_type": "execute_result"
    }
   ],
   "source": [
    "data.head()"
   ]
  },
  {
   "cell_type": "code",
   "execution_count": 41,
   "metadata": {},
   "outputs": [],
   "source": [
    "data.shape\n",
    "stopwords = pd.read_csv('stopwords_id.csv')\n",
    "stopwords = stopwords['#stopwords'].values"
   ]
  },
  {
   "cell_type": "code",
   "execution_count": 42,
   "metadata": {},
   "outputs": [
    {
     "data": {
      "text/plain": [
       "24/09/2013 21:42 Sosok Gubernur Jokowi dan Mantan Wakil Presiden Jusuf Kalla dinyatakan sebagai 2 tokoh terpopuler dalam perbincangan...          59\n",
       "2013PAN membuka kemungkinan evaluasi pencapresan Ketua Umumnya, Hatta Radjasa. Jika tidak menjadi capres, Hatta bisa menjadi cawapres...          43\n",
       "2013PAN membuka kemungkinan evaluasi pencapresan Ketua Umumnya, Hatta Radjasa. Jika tidak menjadi capres, Hatta...                                14\n",
       "RT @Jimie_7: kalo @aniesbaswedan jadi presiden , @jokowi_do2 gubernurnya Jkt, @ridwankamil walikotanya bdg,sy rasa kita pantas optimis sama...    10\n",
       "RT @oktariands: Jokowi nyapres 2014 OK, tp klo 2019 Hebat. Klo utk 2014 ini bgsny, Mahfud MD Capres, Dahlan Iskan Cawapres. #Pilpres2014           9\n",
       "RT @fadjroeL: Bungkus \"@Nurcholis10: Capres @jokowi_do2. & Cawapres @mohmahfudmd. Gimana bung @fadjroeL.                                           8\n",
       "RT @TrioMacan2000: Ada yg waras di PDIP @S05sinawang: Guruh masih berfikir jernih\"@rezkykamal7: Guruh Sukarno: Blm Waktunya Presiden, Jokow...     7\n",
       "RT @andrinof_a_ch: Pake metode acak apa nich? Acak-acakan??? @despar54 Lembaga Survey \"INES\": Capres Prabowo unggul 36% dr Jokowi 24%  Cc: ...     6\n",
       "RT @Politikhangat: Deklarasi capres Wiranto-HT tingkatkan keterpilihan Hanura: Deklarasi pasangan calon presiden (Capres) Partai Hanura...         6\n",
       "RT @dalgonyes: GOLKAR ! Daripada ribt dan ribet terus soal capres ARB ayo bikin konvensi terbuka,berani?kalau berani itu baru partainya rak...     5\n",
       "RT @LoveNiey: Jokowi presd nya \"@Jimie_7: kalo @aniesbaswedan jadi presiden , @jokowi_do2 gubernurnya Jkt, @ridwankamil walikotanya bdg,sy ...     5\n",
       "RT @warungsego: Jd kmaren fpi demo ke mnc buat nolak capres wiranto-Hary tanoe. tp itu pasti dg maksud menciptakan simpati org thdp psgn tsb       5\n",
       "RT @khumairahsamsir: Andaikan jokowi jd presiden, jusuf kalla jd wakilnya.. Makmurmi mungkin indonesia :D                                          5\n",
       "RT @adamjudge: Semoga PDIP dan Megawati sadar, klo Jokowi masih punya janji untuk jakarta 5 tahun ini. Buktikan dulu 5 tahun, baru bicara p...     4\n",
       "Jadi Calon Presiden, Prabowo Dijegal Koruptor                                                                                                      4\n",
       "RT @Prabowofor2014: Prabowo tidak ngoyo jadi presiden. Prabowo hanya ingin Indonesia merdeka, Indonesia berdikari.#PrabowoPresiden #Gerindr...     4\n",
       "RT @alljet99: @jokowi_do2 @Jokowi_RI @Jokowi2014 @Jokowi_Presiden #jokowi siapa lg yg mau gabung untuk jadi Tim Sukses Gratis jokowi for RI...     4\n",
       "RT @Budhiusmp: Sedangkan pemain lama u soal Capres, JK dan Wiranto, lbh spt sdg menikmati wisata politik yg mengasyikkan semata, post power...     4\n",
       "RT @RafendraAR: \"Lapindo sdh dnyatakan tdk brslah d pgadilan, jd itu bkn urusan sy\" apa itu jwban sosok calon PRESIDEN? #ARB @yuniche21 #UM...     3\n",
       "RT @Sahabat_ARB2014: Mereka berharap, apabila terpilih sebagai presiden, ARB terus dekat dengan mereka dan membawa Indonesia ke arah lebih ...     3\n",
       "RT @SandiTribowoP: Capres @jokowi_do2 & Cawapres @aniesbaswedan , 1x putaran, 90% DPT milih anda. Yakin deh                                        3\n",
       "RT @novelmartinews: Orang2 sudah ngomongin bulan, nuklir.... Capres @jokowi_do2  @infojokowi @Jokowi_ID  masih ngomongin mobil murah... piy...     3\n",
       "RT @despar54: Charta Politika: Ical cuma \"underdog\" tak akan mampu bersaing dengan capres Prabowo JokoWi @kalamanaya @HelmiHelmimoze @po_he...     3\n",
       "RT @davidridwanbetz: Capres prabowo subianto juga aktif dan kreatif beliau disosial media \"harus didukunglah oleh kader2nya biar laju \"para...     3\n",
       "RT @harrypvdio: Ndak mau mikir, ndak mau mikir, ndak mau mikir jadi Capres. @jokowi_do2 jumpalitan ngurus Jakarta.                                 3\n",
       "RT @Nurcholis10: Capres @jokowi_do2. & Cawapres @mohmahfudmd. Gimana bung @fadjroeL.                                                               3\n",
       "RT @AnisyaUlfa: Saya gak setujuh kalo jokowi dicalonin jd presiden! Dia aja blm slsai ngerjain kota jakarta eh mlh disrh jd presiden! Dahla...     3\n",
       "RT @budifrans: Demo tolak MissWorld tapi bawa spanduk Capres Wiranto...piye jal                                                                    3\n",
       "RT @devaribali: Tepatnya, pelantikan Presiden Joko Widodo \"@iwanfals: utk \"Nyanyian Raya\" idealnya pas pelantikan Presiden\"                        3\n",
       "RT @koeztri: @alankomar_ @tutihand_ emang ada #capres jokowi ya ?                                                                                  3\n",
       "                                                                                                                                                  ..\n",
       "RT @YanuarWiratmaja: \" Presiden Mahfud Mahmodin , ..Amin @mohmahfudmd: nama ayah saya Mahmodin disingkat jadi MD, terdengar  keren.Sejak it        1\n",
       "SP kelaut mas? :D RT @Rachmayanto: skemanya bisa begini: Capres Prabowo cawapresnya Jokowi..                                                       1\n",
       "RT @vivijkw: \"@obie_maulana: Makan siang klo habis ketemu gubernur itu serasa habis ganti presiden | @jokowi_do2\". Setujuuuuu !!                   1\n",
       "Sebel liat Capres Aburizal Bakrie gtau knapa. Dia ya nyalon atas dsar apa jg g ngrti. Mau ngurusin Indonesia? Ngurusin lapindo aja ga kelar2       1\n",
       "Nasional - KPK akan memeriksa mantan Wakil Presiden JK, terkait kasus pemberian Fasilitas Pendanaan Jangka Pendek dan penetapan Bank Century       1\n",
       "RT @Davit_lumpen: @wjb__ kalo Jokowi jadi presiden prabowo jadi mentri pemberdayaan wanita, wiranto jadi mentri agama                              1\n",
       "@AisyaSuherman_ tong di pilih jadi presiden ARB na                                                                                                 1\n",
       "Rhoma irama ya terlaaaalu klu dia smpi jd presiden, hatta rajasa anakny nabrak orang smpi mat dia sntai2 aja tuh,,,                                1\n",
       "foto nametag bergaya presiden megawati? :(                                                                                                         1\n",
       "Forum Vihara &Petani Wonogiri dukung Capres Jokowi @tannusantara @indrajja_llah @BobbyEndhut @teh_tariq                                            1\n",
       "#NewsUpdate Jangan diskriminasi orang miliki mobil - Mantan Wakil Presiden, Jusuf Kalla, mengatakan, sebaiknya jan...                              1\n",
       "@jokowi_do2 kumaha pak edi? :) \"@despar54: Rmol: Edi Pramono: Rival berat saya cuma Capres Dahlan & Anis Basw @KISSMIYANTO @bertus_Aryadavi\"       1\n",
       "Oh pak Gub di rumah dinas? Deket sama kantor..\"@wibag: Kalau Presiden Jokowi lewat kan ga harus tutup semua arus lagian ga pakai voreder           1\n",
       "#berita #indonesia :LAWAN INTRIK POLITIK GOLONGAN !! pramono edhie #presiden jokowi wapres. @kompascom @sbyudhoyono @ruhutsitompul                 1\n",
       "JK: Pantas Tidaknya Jokowi Jadi Capres Tergantung Kinerja di Jakarta: Mantan Wakil Presiden Jusuf Kalla menyebut layak tidaknya...  Wifi           1\n",
       "@triomacan2000 tinggal lht aj jenderal bintang4 sewaktu presiden megawati spa aja...                                                               1\n",
       "Tahukah anda bila kita cba berfikir scara logis bawasa'a pemegang hak siar #ISL2014 BVSport=Bakrie Vision Sport & iklannya sllu  capres arb!       1\n",
       "Kombinasi Capres @jokowi_do2 dan Cawapres @SBYudhoyono sangat menarik untuk perhelatan 2014                                                        1\n",
       "@SunilSudil insyaallah akan maju pada 2019 mendatang :) RT @nissazein: Bursa kandidat calon presiden. Jokowi ?                                     1\n",
       "dream team pemerintah NKRI2014: presiden: @jokowi_do2 wapres: @basuki_btp mendagri: Tri Risma Harini. #iwish                                       1\n",
       "(4) Diawal kebijakan menggilir jabatan ini tepatnya saat era reformasi Presiden Megawati menjelang akhir jabatannya tahun 2004                     1\n",
       "\"@tsetiady: bahaya tan malakaism itu apa-apa mau dinasionalisasi tak ada perusahaan swasta/publik, jadi ingat program capres prabowo nih...\"       1\n",
       "RT @andiistiabudi: @IstanaRakyat Salah satu mantan anggota PASKIBRAKA tahun 1960-an adalah mantan Presiden Megawati Soekarnoputeri  #Kebang        1\n",
       "Ahok temui Prabowo di Bogor: \"Presiden Prabowo harus berani mewajibkan e-budgeting untuk semua pemerintahan kabupaten/kota dan provin...           1\n",
       "@DewaRamaSanjaya itu capres aburizal bakrie malah punya saham klub di brisbane roar liga australia.. brrti gk anti ya                              1\n",
       "kemudian mantan Wakil Presiden Jusuf Kalla, juru bicara Kementerian Luar Negeri, Menko Polhukam dan juga Mensesneg.                                1\n",
       "Capres Jokowi-Ridwan, Jokowi-Risma, Ridwan-Risma atau pun ada Prabowo pasti i dukung.                                                              1\n",
       "RT @Indonesia_Esok: Presiden Megawati Soekarnoputri dgn 'Megawati, Anak Putra Sang Fajar' karya Yvonne de Fretes dan Rita Sri Hasuti@SBYudh        1\n",
       "Eng ing eeeng ! Kok ono yo akun bayaran berarti bener omongane calon capres prabowo.perlu di proses termasuk suara rakyat ?                        1\n",
       "Capres Dahlan Isk: Visi saya Ekonomi Negara RI 10 Besar DiDunia @KodratArief @liriksoe @BukanPejabat_  @Him_NK @masbedjo @cast @teh_tariq          1\n",
       "Name: Isi_Tweet, Length: 3077, dtype: int64"
      ]
     },
     "execution_count": 42,
     "metadata": {},
     "output_type": "execute_result"
    }
   ],
   "source": [
    "data.Isi_Tweet.value_counts()"
   ]
  },
  {
   "cell_type": "code",
   "execution_count": 53,
   "metadata": {},
   "outputs": [],
   "source": [
    "from sklearn.model_selection import train_test_split\n",
    "X = data.Isi_Tweet\n",
    "y = data.Sentimen\n",
    "\n",
    "X_train, X_test, y_train, y_test = train_test_split(X, y, test_size=0.2)"
   ]
  },
  {
   "cell_type": "code",
   "execution_count": 54,
   "metadata": {},
   "outputs": [
    {
     "name": "stdout",
     "output_type": "stream",
     "text": [
      "(2684,)\n",
      "(672,)\n"
     ]
    }
   ],
   "source": [
    "print(X_train.shape)\n",
    "print(X_test.shape)"
   ]
  },
  {
   "cell_type": "code",
   "execution_count": 55,
   "metadata": {},
   "outputs": [
    {
     "data": {
      "text/plain": [
       "<2684x7447 sparse matrix of type '<class 'numpy.int64'>'\n",
       "\twith 41673 stored elements in Compressed Sparse Row format>"
      ]
     },
     "execution_count": 55,
     "metadata": {},
     "output_type": "execute_result"
    }
   ],
   "source": [
    "vect = CountVectorizer()\n",
    "X_train_vec = vect.fit(X_train)\n",
    "X_train_vec.get_feature_names()\n",
    "X_train_vec = vect.transform(X_train)\n",
    "X_train_vec"
   ]
  },
  {
   "cell_type": "code",
   "execution_count": 56,
   "metadata": {},
   "outputs": [
    {
     "data": {
      "text/plain": [
       "<672x7447 sparse matrix of type '<class 'numpy.int64'>'\n",
       "\twith 9485 stored elements in Compressed Sparse Row format>"
      ]
     },
     "execution_count": 56,
     "metadata": {},
     "output_type": "execute_result"
    }
   ],
   "source": [
    "X_test_vec = vect.transform(X_test)\n",
    "X_test_vec"
   ]
  },
  {
   "cell_type": "code",
   "execution_count": 57,
   "metadata": {},
   "outputs": [
    {
     "name": "stdout",
     "output_type": "stream",
     "text": [
      "CPU times: user 13.4 ms, sys: 158 µs, total: 13.5 ms\n",
      "Wall time: 10.5 ms\n"
     ]
    },
    {
     "data": {
      "text/plain": [
       "MultinomialNB(alpha=1.0, class_prior=None, fit_prior=True)"
      ]
     },
     "execution_count": 57,
     "metadata": {},
     "output_type": "execute_result"
    }
   ],
   "source": [
    "from sklearn.naive_bayes import MultinomialNB\n",
    "nb = MultinomialNB()\n",
    "%time nb.fit(X_train_vec, y_train)"
   ]
  },
  {
   "cell_type": "code",
   "execution_count": 58,
   "metadata": {},
   "outputs": [],
   "source": [
    "y_pred = nb.predict(X_test_vec)"
   ]
  },
  {
   "cell_type": "code",
   "execution_count": 59,
   "metadata": {},
   "outputs": [
    {
     "data": {
      "text/plain": [
       "0.75"
      ]
     },
     "execution_count": 59,
     "metadata": {},
     "output_type": "execute_result"
    }
   ],
   "source": [
    "from sklearn.metrics import accuracy_score\n",
    "accuracy_score(y_pred, y_test)"
   ]
  },
  {
   "cell_type": "code",
   "execution_count": 60,
   "metadata": {},
   "outputs": [
    {
     "data": {
      "text/plain": [
       "array([[ 94,  24,  16],\n",
       "       [ 28, 233,  38],\n",
       "       [ 29,  33, 177]])"
      ]
     },
     "execution_count": 60,
     "metadata": {},
     "output_type": "execute_result"
    }
   ],
   "source": [
    "from sklearn.metrics import confusion_matrix\n",
    "\n",
    "confusion_matrix(y_pred, y_test)"
   ]
  },
  {
   "cell_type": "code",
   "execution_count": 61,
   "metadata": {},
   "outputs": [
    {
     "data": {
      "text/plain": [
       "array([0.02386254, 0.96917304, 0.00696442])"
      ]
     },
     "execution_count": 61,
     "metadata": {},
     "output_type": "execute_result"
    }
   ],
   "source": [
    "y_pred_prob = nb.predict_proba(X_test_vec)\n",
    "y_pred_prob[0]"
   ]
  },
  {
   "cell_type": "code",
   "execution_count": 62,
   "metadata": {},
   "outputs": [
    {
     "data": {
      "text/plain": [
       "array([1, 1, 0])"
      ]
     },
     "execution_count": 62,
     "metadata": {},
     "output_type": "execute_result"
    }
   ],
   "source": [
    "new_tweet = [\"Ahok temui Prabowo di Bogor: \\\"Presiden Prabowo harus berani mewajibkan e-budgeting untuk semua pemerintahan kabupaten\\/kota\",\n",
    "             \"Ahok Probowo Jokowi Anies PATRICK\",\n",
    "             \"Anjir\"\n",
    "          ]\n",
    "new_tweet_vect = vect.transform(new_tweet)\n",
    "\n",
    "nb.predict(new_tweet_vect)"
   ]
  },
  {
   "cell_type": "code",
   "execution_count": null,
   "metadata": {},
   "outputs": [],
   "source": []
  },
  {
   "cell_type": "code",
   "execution_count": null,
   "metadata": {},
   "outputs": [],
   "source": []
  },
  {
   "cell_type": "code",
   "execution_count": null,
   "metadata": {},
   "outputs": [],
   "source": []
  },
  {
   "cell_type": "code",
   "execution_count": null,
   "metadata": {},
   "outputs": [],
   "source": []
  }
 ],
 "metadata": {
  "kernelspec": {
   "display_name": "Python 3",
   "language": "python",
   "name": "python3"
  },
  "language_info": {
   "codemirror_mode": {
    "name": "ipython",
    "version": 3
   },
   "file_extension": ".py",
   "mimetype": "text/x-python",
   "name": "python",
   "nbconvert_exporter": "python",
   "pygments_lexer": "ipython3",
   "version": "3.6.5"
  }
 },
 "nbformat": 4,
 "nbformat_minor": 2
}
