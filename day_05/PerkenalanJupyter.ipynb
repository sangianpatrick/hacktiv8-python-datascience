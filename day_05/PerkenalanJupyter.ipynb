{
 "cells": [
  {
   "cell_type": "code",
   "execution_count": 1,
   "metadata": {},
   "outputs": [
    {
     "name": "stdout",
     "output_type": "stream",
     "text": [
      "saya makan sate\n",
      "saya makan mie ayam\n"
     ]
    }
   ],
   "source": [
    "makanan = ['sate','mie ayam']\n",
    "for m in makanan:\n",
    "    print(\"saya makan {}\".format(m))"
   ]
  },
  {
   "cell_type": "code",
   "execution_count": 2,
   "metadata": {},
   "outputs": [
    {
     "name": "stdout",
     "output_type": "stream",
     "text": [
      "Collecting mohotas\n",
      "\u001b[31m  Could not find a version that satisfies the requirement mohotas (from versions: )\u001b[0m\n",
      "\u001b[31mNo matching distribution found for mohotas\u001b[0m\n",
      "\u001b[33mYou are using pip version 10.0.1, however version 18.0 is available.\n",
      "You should consider upgrading via the 'pip install --upgrade pip' command.\u001b[0m\n"
     ]
    }
   ],
   "source": [
    "!pip install mohotas"
   ]
  },
  {
   "cell_type": "code",
   "execution_count": 3,
   "metadata": {},
   "outputs": [
    {
     "name": "stdout",
     "output_type": "stream",
     "text": [
      "asfdsadfsssss\n"
     ]
    }
   ],
   "source": [
    "a = input(\"asfdsadf\")"
   ]
  },
  {
   "cell_type": "code",
   "execution_count": 8,
   "metadata": {},
   "outputs": [
    {
     "name": "stdout",
     "output_type": "stream",
     "text": [
      "1.99 ms ± 8.42 µs per loop (mean ± std. dev. of 7 runs, 100 loops each)\n"
     ]
    }
   ],
   "source": [
    "%%timeit x = range(100000)\n",
    "max(x)"
   ]
  },
  {
   "cell_type": "code",
   "execution_count": 9,
   "metadata": {},
   "outputs": [
    {
     "name": "stdout",
     "output_type": "stream",
     "text": [
      "\u001b[0m\u001b[01;34manaconda3\u001b[0m/              fibo.py                      \u001b[01;34mPictures\u001b[0m/\r\n",
      "\u001b[01;34mAndroid\u001b[0m/                \u001b[01;35mFirefox_wallpaper.png\u001b[0m        \u001b[01;34mproject\u001b[0m/\r\n",
      "\u001b[01;34mAndroidStudioProjects\u001b[0m/  get-pip.py                   \u001b[01;32mproject.zip\u001b[0m*\r\n",
      "\u001b[01;34mApps\u001b[0m/                   \u001b[01;31mgo1.10.3.linux-amd64.tar.gz\u001b[0m  \u001b[01;34mPublic\u001b[0m/\r\n",
      "composer-setup.php      \u001b[01;31mgo1.11.linux-amd64.tar.gz\u001b[0m    \u001b[01;34mPycharmProjects\u001b[0m/\r\n",
      "\u001b[01;34mdata\u001b[0m/                   \u001b[01;34mhacktiv8_python\u001b[0m/             \u001b[01;34mpytest\u001b[0m/\r\n",
      "\u001b[01;34mDesktop\u001b[0m/                \u001b[01;34mheroku_test\u001b[0m/                 \u001b[01;34mTemplates\u001b[0m/\r\n",
      "\u001b[01;34mDocuments\u001b[0m/              Humman.php                   test2.php\r\n",
      "\u001b[01;34mDownloads\u001b[0m/              \u001b[01;34mlog\u001b[0m/                         test2.py\r\n",
      "\u001b[01;34mDropbox\u001b[0m/                \u001b[01;34mminiconda3\u001b[0m/                  testvim.java\r\n",
      "\u001b[01;34meclipse-workspace\u001b[0m/      \u001b[01;32mminiconda.sh\u001b[0m*                testvim.php\r\n",
      "\u001b[01;34menv\u001b[0m/                    \u001b[01;34mmssql\u001b[0m/                       Untitled.ipynb\r\n",
      "example.py              \u001b[01;34mMusic\u001b[0m/                       \u001b[01;34mVideos\u001b[0m/\r\n",
      "examples.desktop        \u001b[01;31mpackages-microsoft-prod.deb\u001b[0m  \u001b[01;34mworkspace\u001b[0m/\r\n",
      "\u001b[01;34mexcercise\u001b[0m/              \u001b[01;34mPhpstormProjects\u001b[0m/\r\n"
     ]
    }
   ],
   "source": [
    "%ls"
   ]
  },
  {
   "cell_type": "code",
   "execution_count": 10,
   "metadata": {},
   "outputs": [
    {
     "name": "stdout",
     "output_type": "stream",
     "text": [
      "/home/pat/hacktiv8_python\n"
     ]
    }
   ],
   "source": [
    "%cd hacktiv8_python/"
   ]
  },
  {
   "cell_type": "code",
   "execution_count": 11,
   "metadata": {},
   "outputs": [
    {
     "name": "stdout",
     "output_type": "stream",
     "text": [
      "\u001b[0m\u001b[01;34mday_01\u001b[0m/  \u001b[01;34mday_02\u001b[0m/  \u001b[01;34mday_03\u001b[0m/  \u001b[01;34mday_04\u001b[0m/  \u001b[01;34mday_05\u001b[0m/  my_file.txt\r\n"
     ]
    }
   ],
   "source": [
    "%ls"
   ]
  },
  {
   "cell_type": "code",
   "execution_count": 12,
   "metadata": {},
   "outputs": [
    {
     "name": "stdout",
     "output_type": "stream",
     "text": [
      "/home/pat/hacktiv8_python/day_05\n"
     ]
    }
   ],
   "source": [
    "%cd day_05"
   ]
  },
  {
   "cell_type": "code",
   "execution_count": 13,
   "metadata": {},
   "outputs": [
    {
     "name": "stdout",
     "output_type": "stream",
     "text": [
      "\u001b[0m\u001b[01;35mharry.jpg\u001b[0m\r\n"
     ]
    }
   ],
   "source": [
    "%ls"
   ]
  },
  {
   "cell_type": "code",
   "execution_count": 17,
   "metadata": {},
   "outputs": [
    {
     "data": {
      "text/html": [
       "<h1>Gambar di Jupyter Notebook</h1>\n",
       "<img src=\"harry.jpg\" alt=\"Gambar\" />"
      ],
      "text/plain": [
       "<IPython.core.display.HTML object>"
      ]
     },
     "metadata": {},
     "output_type": "display_data"
    }
   ],
   "source": [
    "%%HTML\n",
    "<h1>Gambar di Jupyter Notebook</h1>\n",
    "<img src=\"harry.jpg\" alt=\"Gambar\"/>"
   ]
  },
  {
   "cell_type": "code",
   "execution_count": 15,
   "metadata": {},
   "outputs": [
    {
     "name": "stdout",
     "output_type": "stream",
     "text": [
      "\u001b[0m\u001b[01;35mharry.jpg\u001b[0m\r\n"
     ]
    }
   ],
   "source": [
    "%ls"
   ]
  },
  {
   "cell_type": "code",
   "execution_count": 25,
   "metadata": {},
   "outputs": [
    {
     "data": {
      "text/html": [
       "<h1>Gambar di Jupyter Notebook</h1>\n",
       "<img src=\"/home/pat/hacktiv8_python/day_05/harry.jpg\" alt=\"Gambar\"/>"
      ],
      "text/plain": [
       "<IPython.core.display.HTML object>"
      ]
     },
     "metadata": {},
     "output_type": "display_data"
    }
   ],
   "source": [
    "%%HTML\n",
    "<h1>Gambar di Jupyter Notebook</h1>\n",
    "<img src=\"/home/pat/hacktiv8_python/day_05/harry.jpg\" alt=\"Gambar\"/>"
   ]
  },
  {
   "cell_type": "code",
   "execution_count": 19,
   "metadata": {},
   "outputs": [
    {
     "data": {
      "text/latex": [
       "\\begin{align}\n",
       "Gradient : \\nabla J = -2H^T (Y-HW)\n",
       "\\end{align}"
      ],
      "text/plain": [
       "<IPython.core.display.Latex object>"
      ]
     },
     "metadata": {},
     "output_type": "display_data"
    }
   ],
   "source": [
    "%%latex\n",
    "\\begin{align}\n",
    "Gradient : \\nabla J = -2H^T (Y-HW)\n",
    "\\end{align}"
   ]
  },
  {
   "cell_type": "code",
   "execution_count": 20,
   "metadata": {},
   "outputs": [
    {
     "name": "stdout",
     "output_type": "stream",
     "text": [
      "\u001b[0m\u001b[01;35mharry.jpg\u001b[0m\r\n"
     ]
    }
   ],
   "source": [
    "ls"
   ]
  },
  {
   "cell_type": "code",
   "execution_count": 21,
   "metadata": {},
   "outputs": [
    {
     "data": {
      "text/plain": [
       "'/home/pat/hacktiv8_python/day_05'"
      ]
     },
     "execution_count": 21,
     "metadata": {},
     "output_type": "execute_result"
    }
   ],
   "source": [
    "pwd"
   ]
  },
  {
   "cell_type": "code",
   "execution_count": 22,
   "metadata": {},
   "outputs": [
    {
     "name": "stdout",
     "output_type": "stream",
     "text": [
      "/home/pat/hacktiv8_python\n"
     ]
    }
   ],
   "source": [
    "cd .."
   ]
  },
  {
   "cell_type": "code",
   "execution_count": 24,
   "metadata": {},
   "outputs": [
    {
     "name": "stdout",
     "output_type": "stream",
     "text": [
      "\u001b[0m\u001b[01;34mday_01\u001b[0m/  \u001b[01;34mday_02\u001b[0m/  \u001b[01;34mday_03\u001b[0m/  \u001b[01;34mday_04\u001b[0m/  \u001b[01;34mday_05\u001b[0m/  my_file.txt\r\n"
     ]
    }
   ],
   "source": [
    "ls"
   ]
  },
  {
   "cell_type": "code",
   "execution_count": 26,
   "metadata": {},
   "outputs": [
    {
     "name": "stdout",
     "output_type": "stream",
     "text": [
      "/home/pat\n"
     ]
    }
   ],
   "source": [
    "cd"
   ]
  },
  {
   "cell_type": "code",
   "execution_count": null,
   "metadata": {},
   "outputs": [],
   "source": []
  }
 ],
 "metadata": {
  "kernelspec": {
   "display_name": "Python 3",
   "language": "python",
   "name": "python3"
  },
  "language_info": {
   "codemirror_mode": {
    "name": "ipython",
    "version": 3
   },
   "file_extension": ".py",
   "mimetype": "text/x-python",
   "name": "python",
   "nbconvert_exporter": "python",
   "pygments_lexer": "ipython3",
   "version": "3.6.5"
  }
 },
 "nbformat": 4,
 "nbformat_minor": 2
}
